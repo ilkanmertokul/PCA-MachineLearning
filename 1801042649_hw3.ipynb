{
  "cells": [
    {
      "cell_type": "code",
      "source": [
        "from keras.datasets import mnist\n",
        "from sklearn.decomposition import KernelPCA \n",
        "from sklearn.ensemble import RandomForestRegressor\n",
        "import numpy as np\n",
        "import math\n",
        "\n",
        "(trainX, trainy), (testX, testy) = mnist.load_data()"
      ],
      "outputs": [],
      "execution_count": 49,
      "metadata": {
        "id": "BOEuJ8Oeozin"
      }
    },
    {
      "cell_type": "markdown",
      "source": [
        "#**Part 1:**\n",
        "## Implement PCA and helper functions"
      ],
      "metadata": {
        "id": "05Uecfuhb2be"
      }
    },
    {
      "cell_type": "code",
      "source": [
        "def pca(matrix):\n",
        "\n",
        "  # Means of column\n",
        "  means = get_column_mean(matrix)\n",
        "\n",
        "  # Covariance\n",
        "  center_mat = (cov_mat(matrix,means))\n",
        "\n",
        "  # Eigen\n",
        "  eigenvalue = np.linalg.eig(center_mat)\n",
        "\n",
        "  # SVD\n",
        "  u, sigma, vt = np.linalg.svd(matrix, full_matrices=False)\n",
        "\n",
        "  return means, eigenvalue, matrix_multip(matrix,vt.T)\n",
        "\n",
        "#----------------------------------------------------------------------\n",
        "\n",
        "#Multiplies matrices\n",
        "def matrix_multip(x, y):\n",
        "  result = [[0 for x in range(len(x))] for y in range(len(y))]\n",
        "  for i in range(len(x)):\n",
        "    for j in range(len(y[0])):\n",
        "      for k in range(len(y)):\n",
        "        result[i][j] += x[i][k] * y[k][j]\n",
        "\n",
        "#----------------------------------------------------------------------\n",
        "\n",
        "#Gets matrix and means, returns centerized by mean.\n",
        "def centerized_matrix(means,matrix):\n",
        "  col = len(matrix)\n",
        "  row = len(matrix[0])\n",
        "  for j in range(0,row):\n",
        "    total = 0\n",
        "    for i in range(0,col):  \n",
        "      matrix[i][j] -= means[j] \n",
        "  return matrix\n",
        "\n",
        "#Gets matrix, returns column mean.\n",
        "def get_column_mean(matrix):\n",
        "  list = []\n",
        "  col = len(matrix)\n",
        "  row = len(matrix[0])\n",
        "  for j in range(0,row):\n",
        "    total = 0\n",
        "    for i in range(0,col):  \n",
        "      total += matrix[i][j]\n",
        "    list.insert(j,total/row)\n",
        "  return list\n",
        "\n",
        "#----------------------------------------------------------------------\n",
        "\n",
        "#Covariance\n",
        "def covariance(x, y):\n",
        "  xbar, ybar = x.mean(), y.mean()\n",
        "  return np.sum((x - xbar)*(y - ybar))/(len(x) - 1)\n",
        "\n",
        "# Covariance matrix\n",
        "def cov_mat(matrix, means):\n",
        "  return np.array([[covariance(matrix[0], matrix[0]), covariance(matrix[0], matrix[1])],[covariance(matrix[1], matrix[0]), covariance(matrix[1], matrix[1])]])"
      ],
      "outputs": [],
      "execution_count": 50,
      "metadata": {
        "id": "1mKVr4srb1tH"
      }
    },
    {
      "cell_type": "markdown",
      "source": [
        "#**Part 3 (with 2) :**\n",
        "## Use a non linear PCA."
      ],
      "metadata": {
        "id": "YxhCDlkSwhz3"
      }
    },
    {
      "cell_type": "code",
      "source": [
        "testX = testX[:1000]\n",
        "testy = testy[:1000]\n",
        "\n",
        "trainX_splits = np.array_split(testX,10)\n",
        "trainY_splits = np.array_split(testy,10)"
      ],
      "outputs": [],
      "execution_count": 51,
      "metadata": {
        "id": "dqRXZ6lywr1X"
      }
    },
    {
      "cell_type": "code",
      "source": [
        "t_minst = []\n",
        "for i in range(0,10):\n",
        "  t_minst.insert(i,np.reshape(trainX_splits[i], [trainX_splits[i].shape[0], trainX_splits[i].shape[1]*trainX_splits[i].shape[2]]))"
      ],
      "outputs": [],
      "execution_count": 52,
      "metadata": {
        "id": "nWXgYPUivJFq"
      }
    },
    {
      "cell_type": "code",
      "source": [
        "kpca = KernelPCA()\n",
        "trains = []\n",
        "for i in range(0,10):\n",
        "  trains.insert(i,kpca.fit_transform(t_minst[i]))"
      ],
      "outputs": [],
      "execution_count": 53,
      "metadata": {
        "id": "yineuzGOvgDR"
      }
    },
    {
      "cell_type": "code",
      "source": [
        "regressors = []\n",
        "\n",
        "for i in range(0,10):\n",
        "  regressors.insert(i,RandomForestRegressor(n_estimators = 100, random_state = 0))\n",
        "  regressors[i].fit(trains[i], trainY_splits[i])\n",
        "  print(f\"{i} is done.\")"
      ],
      "outputs": [
        {
          "output_type": "stream",
          "name": "stdout",
          "text": "0 is done.\n1 is done.\n2 is done.\n3 is done.\n4 is done.\n5 is done.\n6 is done.\n7 is done.\n8 is done.\n9 is done.\n"
        }
      ],
      "execution_count": 54,
      "metadata": {
        "colab": {
          "base_uri": "https://localhost:8080/"
        },
        "id": "GQ2C4Xv3vvFA",
        "outputId": "49d36caf-d865-4e72-81ef-ce652afb959b"
      }
    },
    {
      "cell_type": "code",
      "source": [
        "fail = 0\n",
        "for i in range(0,10):\n",
        "  for j in range(0,10):\n",
        "    if j == i:\n",
        "      j += 1\n",
        "    if j >= 10:\n",
        "      break\n",
        "    for k in range(0,len(trains[j])):\n",
        "      res = regressors[i].predict(trains[j][k].reshape(1,-1))\n",
        "      if trainY_splits[j][i] != math.floor(res) and trainY_splits[j][i] != math.ceil(res):\n",
        "        #means fail\n",
        "        fail += 1\n",
        "      \n"
      ],
      "outputs": [],
      "execution_count": 60,
      "metadata": {
        "id": "Tv8lP9UPwVqb"
      }
    },
    {
      "cell_type": "code",
      "source": [
        "print(f\"Testing done. Predicted 90k times as test data and result is:\"),\n",
        "print(f\"fail : {fail}. This means success rate is : {(90000 - fail)/90000} (max is 1)\")"
      ],
      "outputs": [
        {
          "output_type": "stream",
          "name": "stdout",
          "text": "Testing done. Predicted 90k times as test data and result is:\nfail : 7988. This means success rate is : 0.9112444444444444 (max is 1)\n"
        }
      ],
      "execution_count": 64,
      "metadata": {
        "colab": {
          "base_uri": "https://localhost:8080/"
        },
        "id": "rlMBctXK0uUx",
        "outputId": "ced5eb29-8ec0-4118-833a-030d199bf1e4"
      }
    }
  ],
  "metadata": {
    "colab": {
      "name": "1801042649_hw3.ipynb",
      "provenance": [],
      "collapsed_sections": []
    },
    "kernelspec": {
      "name": "python3",
      "display_name": "Python 3"
    },
    "language_info": {
      "name": "python"
    },
    "nteract": {
      "version": "nteract-front-end@1.0.0"
    }
  },
  "nbformat": 4,
  "nbformat_minor": 0
}